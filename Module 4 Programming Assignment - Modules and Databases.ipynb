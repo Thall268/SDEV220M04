{
 "cells": [
  {
   "metadata": {
    "ExecuteTime": {
     "end_time": "2025-04-07T01:01:46.322473Z",
     "start_time": "2025-04-07T01:01:46.319642Z"
    }
   },
   "cell_type": "code",
   "source": [
    "\"\"\"Module 4 Programming Assignment - Modules and Databases\"\"\"\n",
    "\n",
    "\"\"\"11.1 Zoo\"\"\"\n",
    "\n",
    "import zoo\n",
    "zoo.hours()\n",
    "\n",
    "import zoo as menagerie\n",
    "menagerie.hours()\n"
   ],
   "id": "798136bde1655e28",
   "outputs": [
    {
     "name": "stdout",
     "output_type": "stream",
     "text": [
      "'open 9-5 daily'\n",
      "'open 9-5 daily'\n"
     ]
    }
   ],
   "execution_count": 2
  },
  {
   "metadata": {},
   "cell_type": "markdown",
   "source": "",
   "id": "c72a2949f5b3c913"
  },
  {
   "metadata": {
    "ExecuteTime": {
     "end_time": "2025-04-07T01:01:49.016106Z",
     "start_time": "2025-04-07T01:01:49.013703Z"
    }
   },
   "cell_type": "code",
   "source": [
    "\"\"\"11.2\"\"\"\n",
    "from pprint import pprint\n",
    "\n",
    "\n",
    "def hours():\n",
    "    pprint('open 9-5 daily')"
   ],
   "id": "d3dad19b5d81ae4a",
   "outputs": [],
   "execution_count": 3
  },
  {
   "metadata": {},
   "cell_type": "markdown",
   "source": "",
   "id": "88a440395f93ac86"
  },
  {
   "metadata": {},
   "cell_type": "code",
   "outputs": [],
   "execution_count": null,
   "source": [
    "\"\"\"16.1-1.10\"\"\"\n",
    "import csv\n",
    "import sqlite3\n",
    "from sqlalchemy import create_engine, MetaData, Table, select\n",
    "import redis\n",
    "\n",
    "# 16.1 - Create books.csv\n",
    "with open('books.csv', 'w', newline='') as f:\n",
    "    writer = csv.writer(f)\n",
    "    writer.writerow(['author', 'book'])\n",
    "    writer.writerow(['J R R Tolkien', 'The Hobbit'])\n",
    "    writer.writerow(['Lynne Truss', 'Eats, Shoots & Leaves'])\n",
    "\n",
    "# 16.2 - Read books.csv with DictReader python\n",
    "print(\"16.2 - Reading books.csv:\")\n",
    "with open('books.csv', newline='') as f:\n",
    "    books = csv.DictReader(f)\n",
    "    for book in books:\n",
    "        print(book)\n",
    "\n",
    "# 16.3 - Create books2.csv\n",
    "with open('books2.csv', 'w', newline='') as f:\n",
    "    writer = csv.writer(f)\n",
    "    writer.writerow(['title', 'author', 'year'])\n",
    "    writer.writerow(['The Weirdstone of Brisingamen', 'Alan Garner', 1960])\n",
    "    writer.writerow(['Perdido Street Station', 'China Miéville', 2000])\n",
    "    writer.writerow(['Thud!', 'Terry Pratchett', 2005])\n",
    "    writer.writerow(['The Spellman Files', 'Lisa Lutz', 2007])\n",
    "    writer.writerow(['Small Gods', 'Terry Pratchett', 1992])\n",
    "\n",
    "# 16.4 - Create SQLite database and book table\n",
    "conn = sqlite3.connect('books.db')\n",
    "cursor = conn.cursor()\n",
    "cursor.execute('''\n",
    "    CREATE TABLE IF NOT EXISTS book (\n",
    "        title TEXT,\n",
    "        author TEXT,\n",
    "        year INTEGER\n",
    "    )\n",
    "''')\n",
    "conn.commit()\n",
    "\n",
    "# 16.5 - Insert data from books2.csv into book table\n",
    "with open('books2.csv', newline='') as f:\n",
    "    books = csv.DictReader(f)\n",
    "    for book in books:\n",
    "        cursor.execute(\"INSERT INTO book VALUES (?, ?, ?)\",\n",
    "                       (book['title'], book['author'], int(book['year'])))\n",
    "conn.commit()\n",
    "\n",
    "# 16.6 - Print titles in alphabetical order\n",
    "print(\"\\n16.6 - Titles in alphabetical order:\")\n",
    "cursor.execute(\"SELECT title FROM book ORDER BY title\")\n",
    "for row in cursor.fetchall():\n",
    "    print(row[0])\n",
    "\n",
    "# 16.7 - Print all columns ordered by year\n",
    "print(\"\\n16.7 - All columns ordered by year:\")\n",
    "cursor.execute(\"SELECT title, author, year FROM book ORDER BY year\")\n",
    "for row in cursor.fetchall():\n",
    "    print(row)\n",
    "\n",
    "conn.close()\n",
    "\n",
    "# 16.8 - Use SQLAlchemy to select titles in alphabetical order\n",
    "print(\"\\n16.8 - SQLAlchemy titles in alphabetical order:\")\n",
    "engine = create_engine('sqlite:///books.db')\n",
    "metadata = MetaData()\n",
    "book = Table('book', metadata, autoload_with=engine)\n",
    "stmt = select(book.c.title).order_by(book.c.title)\n",
    "\n",
    "with engine.connect() as conn:\n",
    "    result = conn.execute(stmt)\n",
    "    for row in result:\n",
    "        print(row.title)\n",
    "\n",
    "# 16.9 - Create Redis hash\n",
    "print(\"\\n16.9 - Redis hash 'test':\")\n",
    "r = redis.Redis()\n",
    "r.hset('test', mapping={'count': 1, 'name': 'Fester Bestertester'})\n",
    "print(r.hgetall('test'))\n",
    "\n",
    "# 16.10 - Increment Redis field\n",
    "print(\"\\n16.10 - Redis increment count:\")\n",
    "r.hincrby('test', 'count', 1)\n",
    "print(r.hget('test', 'count'))\n"
   ],
   "id": "1ef006077a158cc8"
  }
 ],
 "metadata": {
  "kernelspec": {
   "name": "python3",
   "language": "python",
   "display_name": "Python 3 (ipykernel)"
  }
 },
 "nbformat": 5,
 "nbformat_minor": 9
}
